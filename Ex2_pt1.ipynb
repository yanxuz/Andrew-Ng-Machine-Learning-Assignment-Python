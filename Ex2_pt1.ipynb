{
 "cells": [
  {
   "cell_type": "code",
   "execution_count": 2,
   "metadata": {
    "collapsed": true
   },
   "outputs": [],
   "source": [
    "# load libraries\n",
    "import scipy as sp\n",
    "import pandas as pd\n",
    "import numpy as np\n",
    "import matplotlib.pyplot as plt\n",
    "\n",
    "%matplotlib inline  \n",
    "import seaborn as sns\n",
    "sns.set_context('notebook')\n",
    "sns.set_style('white')"
   ]
  },
  {
   "cell_type": "code",
   "execution_count": 30,
   "metadata": {
    "collapsed": false
   },
   "outputs": [
    {
     "data": {
      "text/plain": [
       "<matplotlib.legend.Legend at 0x11d156f28>"
      ]
     },
     "execution_count": 30,
     "metadata": {},
     "output_type": "execute_result"
    },
    {
     "data": {
      "image/png": "[encoded data removed]",
      "text/plain": [
       "<matplotlib.figure.Figure at 0x11c8ac358>"
      ]
     },
     "metadata": {},
     "output_type": "display_data"
    }
   ],
   "source": [
    "#load and plot the data\n",
    "data = np.loadtxt('./data/ex2data1.txt',delimiter=',')\n",
    "# seperate them into X and y\n",
    "X = np.c_[data[:,:-1]]\n",
    "y = np.c_[data[:,-1]]\n",
    "m = np.size(y)\n",
    "X_ext = np.c_[np.ones(m),X]\n",
    "# plot\n",
    "ind0=np.nonzero(y==0)[0]\n",
    "ind1=np.nonzero(y==1)[0]\n",
    "plt.scatter(X[ind0,0],X[ind0,1], s=30, c='y', marker='o', linewidths=1, label='Not admitted')\n",
    "plt.scatter(X[ind1,0],X[ind1,1], s=30, c='b', marker='+', linewidths=1, label='Admitted')\n",
    "plt.legend()"
   ]
  },
  {
   "cell_type": "code",
   "execution_count": 4,
   "metadata": {
    "collapsed": false
   },
   "outputs": [
    {
     "data": {
      "text/plain": [
       "0.5"
      ]
     },
     "execution_count": 4,
     "metadata": {},
     "output_type": "execute_result"
    }
   ],
   "source": [
    "# logistic function\n",
    "sp.special.expit(0)"
   ]
  },
  {
   "cell_type": "code",
   "execution_count": 5,
   "metadata": {
    "collapsed": true
   },
   "outputs": [],
   "source": [
    "# cost function\n",
    "def costFunction(theta,X,y):\n",
    "    m=np.size(y)\n",
    "    h=sp.special.expit(X.dot(theta))\n",
    "    J=-(1/m)*(np.log(h).T.dot(y)+np.log(1-h).T.dot(1-y))\n",
    "    if np.isnan(J[0]):\n",
    "        return(np.inf)\n",
    "    return(J)"
   ]
  },
  {
   "cell_type": "code",
   "execution_count": 6,
   "metadata": {
    "collapsed": true
   },
   "outputs": [],
   "source": [
    "# gradient function\n",
    "def gradientFunction(theta,X,y):\n",
    "    m=np.size(y)\n",
    "    h=sp.special.expit(X.dot(theta))\n",
    "    J_der=(1/m)*X.T.dot(h-y)\n",
    "    return(J_der.flatten())"
   ]
  },
  {
   "cell_type": "code",
   "execution_count": 7,
   "metadata": {
    "collapsed": false
   },
   "outputs": [
    {
     "name": "stdout",
     "output_type": "stream",
     "text": [
      "Cost: \n",
      " [[ 0.69314718]]\n",
      "Grad: \n",
      " [ -0.1        -12.00921659 -11.26284221]\n"
     ]
    }
   ],
   "source": [
    "initial_theta = np.c_[np.zeros(np.shape(X_ext)[1])]\n",
    "cost=costFunction(initial_theta,X_ext,y)\n",
    "grad=gradientFunction(initial_theta,X_ext,y)\n",
    "print('Cost: \\n', cost)\n",
    "print('Grad: \\n', grad)"
   ]
  },
  {
   "cell_type": "code",
   "execution_count": 8,
   "metadata": {
    "collapsed": false
   },
   "outputs": [],
   "source": [
    "# use minimize function to find the minimum\n",
    "#minimize(fun, x0, args=(), method=None, jac=None, hess=None, hessp=None, bounds=None, constraints=(), tol=None, callback=None, options=None\n",
    "res = sp.optimize.minimize(costFunction,initial_theta,args=(X_ext,y),options={'maxiter':400})"
   ]
  },
  {
   "cell_type": "code",
   "execution_count": 9,
   "metadata": {
    "collapsed": false
   },
   "outputs": [
    {
     "data": {
      "text/plain": [
       "      fun: 0.20349770159087116\n",
       " hess_inv: array([[  3.04422500e+03,  -2.47758683e+01,  -2.42610367e+01],\n",
       "       [ -2.47758683e+01,   2.16256918e-01,   1.84584428e-01],\n",
       "       [ -2.42610367e+01,   1.84584428e-01,   2.08283953e-01]])\n",
       "      jac: array([ -3.72529030e-08,  -1.97254121e-06,  -2.63750553e-06])\n",
       "  message: 'Optimization terminated successfully.'\n",
       "     nfev: 158\n",
       "      nit: 25\n",
       "     njev: 30\n",
       "   status: 0\n",
       "  success: True\n",
       "        x: array([-25.16123687,   0.20623094,   0.2014708 ])"
      ]
     },
     "execution_count": 9,
     "metadata": {},
     "output_type": "execute_result"
    }
   ],
   "source": [
    "res"
   ]
  },
  {
   "cell_type": "code",
   "execution_count": 34,
   "metadata": {
    "collapsed": false
   },
   "outputs": [
    {
     "data": {
      "text/plain": [
       "<matplotlib.contour.QuadContourSet at 0x11da383c8>"
      ]
     },
     "execution_count": 34,
     "metadata": {},
     "output_type": "execute_result"
    },
    {
     "data": {
      "image/png": "[encoded data removed]",
      "text/plain": [
       "<matplotlib.figure.Figure at 0x11d8d9668>"
      ]
     },
     "metadata": {},
     "output_type": "display_data"
    }
   ],
   "source": [
    "# plot a decision boundary\n",
    "xx,yy=np.meshgrid(np.linspace(30,100,141),np.linspace(30,100,141))\n",
    "one=np.ones(np.shape(xx))\n",
    "X_2D = np.stack((one,xx,yy),axis=2)\n",
    "# this is a very vectorized algorithm, I'm pretty proud of it\n",
    "z=sp.special.expit(X_2D.dot(res.x))\n",
    "\n",
    "# all the dots\n",
    "plt.scatter(X[ind0,0],X[ind0,1], s=30, c='y', marker='o', linewidths=1, label='Not admitted')\n",
    "plt.scatter(X[ind1,0],X[ind1,1], s=30, c='b', marker='+', linewidths=1, label='Admitted')\n",
    "plt.legend()\n",
    "\n",
    "# dividing line\n",
    "plt.contour(xx,yy,z,[0.5],colors='r')"
   ]
  },
  {
   "cell_type": "code",
   "execution_count": 50,
   "metadata": {
    "collapsed": false
   },
   "outputs": [],
   "source": [
    "# a predict function\n",
    "def predictFunction(theta,X):\n",
    "    return(sp.special.expit(np.insert(X,[0],1).dot(theta)))"
   ]
  },
  {
   "cell_type": "code",
   "execution_count": 52,
   "metadata": {
    "collapsed": false
   },
   "outputs": [
    {
     "data": {
      "text/plain": [
       "0.77628961555287068"
      ]
     },
     "execution_count": 52,
     "metadata": {},
     "output_type": "execute_result"
    }
   ],
   "source": [
    "predictFunction(res.x,[45,85])"
   ]
  },
  {
   "cell_type": "code",
   "execution_count": 72,
   "metadata": {
    "collapsed": false
   },
   "outputs": [
    {
     "name": "stdout",
     "output_type": "stream",
     "text": [
      "Correct ratio: \n",
      " 0.89\n"
     ]
    }
   ],
   "source": [
    "# evaluate our algorithm\n",
    "y_predict=(sp.special.expit(X_ext.dot(res.x)) >= 0.5).astype(int)\n",
    "print('Correct ratio: \\n',np.sum((y_predict==y.T).astype(int)==1)/np.size(y))"
   ]
  },
  {
   "cell_type": "code",
   "execution_count": null,
   "metadata": {
    "collapsed": true
   },
   "outputs": [],
   "source": []
  }
 ],
 "metadata": {
  "anaconda-cloud": {},
  "kernelspec": {
   "display_name": "Python [Root]",
   "language": "python",
   "name": "Python [Root]"
  },
  "language_info": {
   "codemirror_mode": {
    "name": "ipython",
    "version": 3
   },
   "file_extension": ".py",
   "mimetype": "text/x-python",
   "name": "python",
   "nbconvert_exporter": "python",
   "pygments_lexer": "ipython3",
   "version": "3.5.2"
  }
 },
 "nbformat": 4,
 "nbformat_minor": 0
}
