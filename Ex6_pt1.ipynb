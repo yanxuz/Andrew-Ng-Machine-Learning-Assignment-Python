{
 "cells": [
  {
   "cell_type": "code",
   "execution_count": 9,
   "metadata": {
    "collapsed": true
   },
   "outputs": [],
   "source": [
    "# import libraries\n",
    "import pandas as pd\n",
    "import numpy as np\n",
    "import matplotlib as mpl\n",
    "import matplotlib.pyplot as plt\n",
    "\n",
    "from scipy.io import loadmat\n",
    "from sklearn import svm\n",
    "\n",
    "pd.set_option('display.notebook_repr_html', False)\n",
    "pd.set_option('display.max_columns', None)\n",
    "pd.set_option('display.max_rows', 150)\n",
    "pd.set_option('display.max_seq_items', None)\n",
    " \n",
    "#%config InlineBackend.figure_formats = {'pdf',}\n",
    "%matplotlib inline\n",
    "\n",
    "import seaborn as sns\n",
    "sns.set_context('notebook')\n",
    "sns.set_style('white')"
   ]
  },
  {
   "cell_type": "code",
   "execution_count": 5,
   "metadata": {
    "collapsed": false
   },
   "outputs": [],
   "source": [
    "# load data\n",
    "data = loadmat('./ex6data1.mat')\n",
    "X, y = data['X'],data['y']"
   ]
  },
  {
   "cell_type": "code",
   "execution_count": 6,
   "metadata": {
    "collapsed": false
   },
   "outputs": [
    {
     "data": {
      "image/png": "[encoded data removed]",
      "text/plain": [
       "<matplotlib.figure.Figure at 0xaeb2e80>"
      ]
     },
     "metadata": {},
     "output_type": "display_data"
    }
   ],
   "source": [
    "# plot data\n",
    "def plotData(X,y):\n",
    "    pos = (y == 1).ravel()\n",
    "    neg = (y == 0).ravel()\n",
    "    plt.scatter(X[pos,0],X[pos,1],marker='+',s=60,c='k')\n",
    "    plt.scatter(X[neg,0],X[neg,1],marker='o',s=60,c='y')\n",
    "plotData(X,y)"
   ]
  },
  {
   "cell_type": "code",
   "execution_count": 27,
   "metadata": {
    "collapsed": true
   },
   "outputs": [],
   "source": [
    "#Function to draw the SVM boundary\n",
    "def plotBoundary(my_svm, xmin, xmax, ymin, ymax):\n",
    "    \"\"\"\n",
    "    Function to plot the decision boundary for a trained SVM\n",
    "    It works by making a grid of x1 (\"xvals\") and x2 (\"yvals\") points,\n",
    "    And for each, computing whether the SVM classifies that point as\n",
    "    True or False. Then, a contour is drawn with a built-in pyplot function.\n",
    "    \"\"\"\n",
    "    xvals = np.linspace(xmin,xmax,100)\n",
    "    yvals = np.linspace(ymin,ymax,100)\n",
    "    zvals = np.zeros((len(xvals),len(yvals)))\n",
    "    for i in range(len(xvals)):\n",
    "        for j in range(len(yvals)):\n",
    "            zvals[i][j] = float(my_svm.predict(np.c_[xvals[i],yvals[j]]))\n",
    "    zvals = zvals.transpose()\n",
    "\n",
    "    u, v = np.meshgrid( xvals, yvals )\n",
    "    mycontour = plt.contour( u, v, zvals )\n",
    "    plt.title(\"Decision Boundary\")"
   ]
  },
  {
   "cell_type": "code",
   "execution_count": null,
   "metadata": {
    "collapsed": false
   },
   "outputs": [],
   "source": [
    "# Run the SVM training (with C = 1) using SVM software. \n",
    "# When C = 1, you should find that the SVM puts the decision boundary \n",
    "# in the gap between the two datasets and misclassifies the data point on the far left\n",
    "\n",
    "#First we make an instance of an SVM with C=1 and 'linear' kernel\n",
    "linear_svm = svm.SVC(C=1, kernel='linear')\n",
    "#Now we fit the SVM to our X matrix (no bias unit)\n",
    "linear_svm.fit( X, y.ravel() )\n",
    "#Now we plot the decision boundary\n",
    "plotData(X,y)\n",
    "plotBoundary(linear_svm,0,4.5,1.5,5)"
   ]
  },
  {
   "cell_type": "code",
   "execution_count": null,
   "metadata": {
    "collapsed": true
   },
   "outputs": [],
   "source": []
  }
 ],
 "metadata": {
  "anaconda-cloud": {},
  "kernelspec": {
   "display_name": "Python [Root]",
   "language": "python",
   "name": "Python [Root]"
  },
  "language_info": {
   "codemirror_mode": {
    "name": "ipython",
    "version": 3
   },
   "file_extension": ".py",
   "mimetype": "text/x-python",
   "name": "python",
   "nbconvert_exporter": "python",
   "pygments_lexer": "ipython3",
   "version": "3.5.2"
  }
 },
 "nbformat": 4,
 "nbformat_minor": 0
}
