{
 "cells": [
  {
   "cell_type": "code",
   "execution_count": 2,
   "metadata": {
    "collapsed": false
   },
   "outputs": [],
   "source": [
    "# load libraries\n",
    "import scipy as sp\n",
    "import pandas as pd\n",
    "import numpy as np\n",
    "import matplotlib.pyplot as plt\n",
    "from scipy.io import loadmat\n",
    "\n",
    "%matplotlib inline  \n",
    "import seaborn as sns\n",
    "sns.set_context('notebook')\n",
    "sns.set_style('white')"
   ]
  },
  {
   "cell_type": "code",
   "execution_count": 3,
   "metadata": {
    "collapsed": false
   },
   "outputs": [],
   "source": [
    "#load data\n",
    "data = loadmat('./data/ex4data1.mat')\n",
    "X,y=data['X'],data['y']\n",
    "weights = loadmat('data/ex4weights.mat')\n",
    "given_theta_tuple = (weights['Theta1'], weights['Theta2'])\n",
    "# pack the weights into a single data structure to generalize\n",
    "#X  (5000, 400)\n",
    "#y  (5000, 1)\n",
    "#theta1  (25, 401)\n",
    "#theta2  (10, 26)"
   ]
  },
  {
   "cell_type": "code",
   "execution_count": 4,
   "metadata": {
    "collapsed": false
   },
   "outputs": [],
   "source": [
    "# expand y\n",
    "N_neuron = (400,25,10) # number of neurons in each hidden layer: input, hidden (could be larger than 1), output\n",
    "y_ext=np.zeros((y.size,N_neuron[-1]))\n",
    "for k in range(N_neuron[-1]):\n",
    "    y_ext[:,k]=(y==k+1).astype(int).flatten()"
   ]
  },
  {
   "cell_type": "code",
   "execution_count": 5,
   "metadata": {
    "collapsed": false
   },
   "outputs": [],
   "source": [
    "# a function to unpack weights as a vector from a tuple\n",
    "def unpackTheta(theta_tuple):\n",
    "    theta_vector=[]\n",
    "    for theta_tuple_i in theta_tuple:\n",
    "        theta_vector=np.r_[theta_vector,(theta_tuple_i.flatten())]\n",
    "    return(theta_vector)\n",
    "\n",
    "# a function to pack weiths as a vector to a tuple\n",
    "def packTheta(theta_vector,N_neuron):\n",
    "    theta_tuple=()\n",
    "    start_index=0\n",
    "    for layer in range(len(N_neuron)-1):\n",
    "        local_weights=np.array(theta_vector[start_index:start_index+(N_neuron[layer]+1)*N_neuron[layer+1]])\n",
    "        theta_tuple+=(local_weights.reshape(N_neuron[layer+1],N_neuron[layer]+1),)\n",
    "        start_index=(N_neuron[layer]+1)*N_neuron[layer+1]\n",
    "    return(theta_tuple)"
   ]
  },
  {
   "cell_type": "code",
   "execution_count": 6,
   "metadata": {
    "collapsed": false
   },
   "outputs": [],
   "source": [
    "# forward propogation, with theta an vector\n",
    "def predict(theta_vector,N_neuron,X):\n",
    "    # transfer weights\n",
    "    theta_tuple=packTheta(theta_vector,N_neuron)\n",
    "    # initialize\n",
    "    X_i=np.c_[np.ones(X.shape[0]),X]\n",
    "    z_output=(X_i.T,)\n",
    "    y_output=(X_i,)\n",
    "    # a loop to calculate different layers\n",
    "    for i,theta_i in enumerate(theta_tuple):\n",
    "        z_i=X_i.dot(theta_i.T)\n",
    "        if i < len(theta_tuple)-1:\n",
    "            y_i=np.c_[np.ones(z_i.shape[0]),sp.special.expit(z_i)]\n",
    "        else:\n",
    "            y_i=np.c_[sp.special.expit(z_i)]\n",
    "        z_output+=(z_i.T,)\n",
    "        y_output+=(y_i,)\n",
    "        X_i=y_i    \n",
    "    return((z_output,y_output))"
   ]
  },
  {
   "cell_type": "code",
   "execution_count": 7,
   "metadata": {
    "collapsed": false
   },
   "outputs": [
    {
     "name": "stdout",
     "output_type": "stream",
     "text": [
      "97.52 as accurate answer\n",
      "97.52\n"
     ]
    }
   ],
   "source": [
    "given_theta_vector=unpackTheta(given_theta_tuple)\n",
    "z_output,y_output=predict(given_theta_vector,N_neuron,X)\n",
    "y_pre=np.argmax(y_output[-1],axis=1)+1\n",
    "\n",
    "print('97.52 as accurate answer')\n",
    "print(np.sum((y_pre==y.flatten()).astype(int))/np.size(y)*100)"
   ]
  },
  {
   "cell_type": "code",
   "execution_count": 10,
   "metadata": {
    "collapsed": false
   },
   "outputs": [
    {
     "name": "stdout",
     "output_type": "stream",
     "text": [
      "0.28762916516131892 as accurate answer\n",
      "0.384487796243\n"
     ]
    }
   ],
   "source": [
    "# cost function\n",
    "def costFunction(theta_vector,N_neuron,reg,X,y_ext):\n",
    "    z_output,y_output=predict(theta_vector,N_neuron,X)\n",
    "    theta_tuple=packTheta(theta_vector,N_neuron)\n",
    "    m=np.shape(y_output[-1])[0]\n",
    "    J=1/m*np.sum(-y_ext*np.log(y_output[-1])-(1-y_ext)*np.log(1-y_output[-1]))\n",
    "    for theta_i in theta_tuple:\n",
    "        J+=np.sum(np.square(theta_i))/(2*m)*reg\n",
    "    if np.isnan(J):\n",
    "        return(np.inf)\n",
    "    return(J)\n",
    "reg=1\n",
    "cost=costFunction(given_theta_vector,N_neuron,reg,X,y_ext)\n",
    "\n",
    "print('0.28762916516131892 as accurate answer')\n",
    "print(cost)"
   ]
  },
  {
   "cell_type": "code",
   "execution_count": 11,
   "metadata": {
    "collapsed": true
   },
   "outputs": [],
   "source": [
    "def sigmoidFunction(z):\n",
    "    return(1/(1+np.exp(-z)))\n",
    "def sigmoidGradient(z):\n",
    "    y=sigmoidFunction(z)\n",
    "    return(y*(1-y))"
   ]
  },
  {
   "cell_type": "code",
   "execution_count": 12,
   "metadata": {
    "collapsed": false
   },
   "outputs": [],
   "source": [
    "# initialize the NN\n",
    "#N_neuron = (400,25,10) # number of neurons in each hidden layer\n",
    "#X  (5000, 400)\n",
    "#y  (5000, 1)\n",
    "#theta1  (25, 401)\n",
    "#theta2  (10, 26)\n",
    "epsilon = 0.12\n",
    "initial_theta_tuple=()\n",
    "for i in range(len(N_neuron)-1):\n",
    "    initial_theta_tuple+=(np.random.uniform(\n",
    "            -epsilon,epsilon,(N_neuron[i+1],N_neuron[i]+1)),)\n",
    "initial_theta_vector=unpackTheta(initial_theta_tuple)"
   ]
  },
  {
   "cell_type": "code",
   "execution_count": 18,
   "metadata": {
    "collapsed": false
   },
   "outputs": [],
   "source": [
    "# back propogation\n",
    "def gradFunction(theta_vector,N_neuron,reg,X,y_ext):\n",
    "    # number of hidden layers\n",
    "    N_hidden = len(N_neuron)-2    \n",
    "    # wrap up weights\n",
    "    theta_tuple=packTheta(theta_vector,N_neuron)    \n",
    "    # initialize the gradient function\n",
    "    m=np.shape(X)[0]\n",
    "    DELTA = []\n",
    "    for layer in range(N_hidden+1):\n",
    "        DELTA.append(0)        \n",
    "    # t is the index of each training sample    \n",
    "    for t in range(m):   \n",
    "        # forward propogation\n",
    "        z_output,y_output = predict(theta_vector,N_neuron,X[t,:].reshape(1,-1))           \n",
    "        # calculate delta terms\n",
    "        delta=(y_output[-1]-y_ext[t,:]).T\n",
    "        DELTA[-1]+=delta.dot(y_output[-2]) \n",
    "        for layer in range(N_hidden):\n",
    "            delta=theta_tuple[-(layer+1)][:,1:].T.dot(delta.reshape(-1,1))*sigmoidGradient(z_output[-(layer+2)]).reshape(-1,1)\n",
    "            DELTA[-(layer+2)]+=delta.dot(y_output[-(layer+3)].reshape(1,-1))            \n",
    "    # divide by number of training samples\n",
    "    for DELTA_i in DELTA:\n",
    "        DELTA_i/=m    \n",
    "    # add regulation terms\n",
    "    DELTA[-1]+=reg/m*np.c_[np.zeros(np.shape(theta_tuple[-1])[0]),theta_tuple[-1][:,1:]]\n",
    "    for layer in range(N_hidden):\n",
    "        DELTA[-(layer+2)]+=reg/m*np.c_[np.zeros(np.shape(theta_tuple[-(layer+2)])[0]),theta_tuple[-(layer+2)][:,1:]]\n",
    "    # put the gradient into a vector    \n",
    "    DELTA_vector=unpackTheta(DELTA)\n",
    "    return(DELTA_vector)\n",
    "#grad=gradFunction(initial_theta_vector,N_neuron,reg,X,y_ext)"
   ]
  },
  {
   "cell_type": "code",
   "execution_count": 23,
   "metadata": {
    "collapsed": false
   },
   "outputs": [],
   "source": [
    "# minimalize cost function\n",
    "res = sp.optimize.minimize(costFunction,initial_theta_vector,args=(N_neuron,reg,X,y_ext),\n",
    "                                   jac=gradFunction,method=None,options={'maxiter':400})\n",
    "trained_theta_vector=res.x\n",
    "trained_theta_tuple=packTheta(trained_theta_vector,N_neuron)"
   ]
  },
  {
   "cell_type": "code",
   "execution_count": 24,
   "metadata": {
    "collapsed": false
   },
   "outputs": [
    {
     "data": {
      "text/plain": [
       "      fun: 0.35386220536842633\n",
       " hess_inv: array([[  3.51249414e+00,  -7.24875325e-02,  -7.04291793e-02, ...,\n",
       "         -5.24027050e-01,   4.36834735e-02,   1.23040587e+00],\n",
       "       [ -7.24875325e-02,   1.00300683e+00,   2.92144678e-03, ...,\n",
       "          2.82216590e-02,   6.50387245e-04,  -3.31180716e-02],\n",
       "       [ -7.04291793e-02,   2.92144678e-03,   1.00283849e+00, ...,\n",
       "          2.74202779e-02,   6.31918874e-04,  -3.21776521e-02],\n",
       "       ..., \n",
       "       [ -5.24027050e-01,   2.82216590e-02,   2.74202779e-02, ...,\n",
       "          5.08566821e+00,  -7.18157246e-01,  -2.68400957e+00],\n",
       "       [  4.36834735e-02,   6.50387245e-04,   6.31918874e-04, ...,\n",
       "         -7.18157246e-01,   1.86820288e+00,   6.40972502e-01],\n",
       "       [  1.23040587e+00,  -3.31180716e-02,  -3.21776521e-02, ...,\n",
       "         -2.68400957e+00,   6.40972502e-01,   6.82097065e+00]])\n",
       "      jac: array([  1.49139759e-04,  -5.33704557e-08,  -5.18549503e-08, ...,\n",
       "        -2.50830170e-04,   2.23179724e-05,  -2.15764284e-04])\n",
       "  message: 'Desired error not necessarily achieved due to precision loss.'\n",
       "     nfev: 373\n",
       "      nit: 285\n",
       "     njev: 361\n",
       "   status: 2\n",
       "  success: False\n",
       "        x: array([ -1.25052067e+00,  -2.66852279e-04,  -2.59274751e-04, ...,\n",
       "        -9.93803664e-01,  -5.21412581e-01,   1.77958018e+00])"
      ]
     },
     "execution_count": 24,
     "metadata": {},
     "output_type": "execute_result"
    }
   ],
   "source": [
    "res"
   ]
  },
  {
   "cell_type": "code",
   "execution_count": 25,
   "metadata": {
    "collapsed": false
   },
   "outputs": [
    {
     "name": "stdout",
     "output_type": "stream",
     "text": [
      "97.52 is the given weights\n",
      "99.16\n"
     ]
    }
   ],
   "source": [
    "# make prediction\n",
    "z_output,y_output=predict(trained_theta_vector,N_neuron,X)\n",
    "y_pre=np.argmax(y_output[-1],axis=1)+1\n",
    "\n",
    "print('97.52 is the given weights')\n",
    "print(np.sum((y_pre==y.flatten()).astype(int))/np.size(y)*100)"
   ]
  },
  {
   "cell_type": "code",
   "execution_count": 27,
   "metadata": {
    "collapsed": false
   },
   "outputs": [
    {
     "name": "stdout",
     "output_type": "stream",
     "text": [
      "[10  2  9  2  4  1  5  3  1 10]\n",
      "[[10  2  9  2  4  1  5  3  1 10]]\n"
     ]
    },
    {
     "data": {
      "image/png": "[encoded data removed]",
      "text/plain": [
       "<matplotlib.figure.Figure at 0xba0a2b0>"
      ]
     },
     "metadata": {},
     "output_type": "display_data"
    }
   ],
   "source": [
    "# plot\n",
    "# show the digits and compare with our prediction\n",
    "# get 10 random samples\n",
    "sample=np.random.choice(X.shape[0],10)\n",
    "plt.imshow(X[sample].reshape(-1,20).T)\n",
    "plt.axis('off');\n",
    "print(y_pre[sample].T)\n",
    "print(y[sample].T)"
   ]
  },
  {
   "cell_type": "code",
   "execution_count": 28,
   "metadata": {
    "collapsed": true
   },
   "outputs": [],
   "source": [
    "# save the trained weights\n",
    "np.savetxt('trained_theta_vector_99.16.txt',trained_theta_vector, delimiter=' ')"
   ]
  }
 ],
 "metadata": {
  "anaconda-cloud": {},
  "kernelspec": {
   "display_name": "Python [Root]",
   "language": "python",
   "name": "Python [Root]"
  },
  "language_info": {
   "codemirror_mode": {
    "name": "ipython",
    "version": 3
   },
   "file_extension": ".py",
   "mimetype": "text/x-python",
   "name": "python",
   "nbconvert_exporter": "python",
   "pygments_lexer": "ipython3",
   "version": "3.5.2"
  }
 },
 "nbformat": 4,
 "nbformat_minor": 0
}
