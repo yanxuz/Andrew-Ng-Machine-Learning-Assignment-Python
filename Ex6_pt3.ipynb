{
 "cells": [
  {
   "cell_type": "code",
   "execution_count": 2,
   "metadata": {
    "collapsed": true
   },
   "outputs": [],
   "source": [
    "# import libraries\n",
    "import pandas as pd\n",
    "import numpy as np\n",
    "import matplotlib as mpl\n",
    "import matplotlib.pyplot as plt\n",
    "\n",
    "from scipy.io import loadmat\n",
    "from sklearn import svm\n",
    "\n",
    "pd.set_option('display.notebook_repr_html', False)\n",
    "pd.set_option('display.max_columns', None)\n",
    "pd.set_option('display.max_rows', 150)\n",
    "pd.set_option('display.max_seq_items', None)\n",
    " \n",
    "#%config InlineBackend.figure_formats = {'pdf',}\n",
    "%matplotlib inline\n",
    "\n",
    "import seaborn as sns\n",
    "sns.set_context('notebook')\n",
    "sns.set_style('white')"
   ]
  },
  {
   "cell_type": "code",
   "execution_count": 3,
   "metadata": {
    "collapsed": true
   },
   "outputs": [],
   "source": [
    "# Gaussian kernal function\n",
    "def gaussianKernel(x1,x2,sigma=2):\n",
    "    norm=np.sum(np.square(x1-x2))\n",
    "    return(np.exp(-norm/(2*np.square(sigma))))"
   ]
  },
  {
   "cell_type": "code",
   "execution_count": 4,
   "metadata": {
    "collapsed": false
   },
   "outputs": [
    {
     "data": {
      "text/plain": [
       "0.32465246735834974"
      ]
     },
     "execution_count": 4,
     "metadata": {},
     "output_type": "execute_result"
    }
   ],
   "source": [
    "x1 = np.array([1, 2, 1])\n",
    "x2 = np.array([0, 4, -1])\n",
    "sigma = 2\n",
    "\n",
    "gaussianKernel(x1, x2, sigma)"
   ]
  },
  {
   "cell_type": "code",
   "execution_count": 5,
   "metadata": {
    "collapsed": false
   },
   "outputs": [
    {
     "name": "stdout",
     "output_type": "stream",
     "text": [
      "dict_keys(['__version__', 'Xval', '__header__', '__globals__', 'yval', 'y', 'X'])\n"
     ]
    }
   ],
   "source": [
    "# load data\n",
    "data = loadmat('./ex6data3.mat')\n",
    "print(data.keys())\n",
    "X, y = data['X'],data['y']\n",
    "Xval,yval = data['Xval'],data['yval']\n"
   ]
  },
  {
   "cell_type": "code",
   "execution_count": 6,
   "metadata": {
    "collapsed": false
   },
   "outputs": [
    {
     "data": {
      "image/png": "[encoded data removed]",
      "text/plain": [
       "<matplotlib.figure.Figure at 0xb0e0f98>"
      ]
     },
     "metadata": {},
     "output_type": "display_data"
    }
   ],
   "source": [
    "# plot data\n",
    "def plotData(X,y):\n",
    "    pos = (y == 1).ravel()\n",
    "    neg = (y == 0).ravel()\n",
    "    plt.scatter(X[pos,0],X[pos,1],marker='+',s=60,c='k')\n",
    "    plt.scatter(X[neg,0],X[neg,1],marker='o',s=60,c='y')\n",
    "\n",
    "plotData(X,y)"
   ]
  },
  {
   "cell_type": "code",
   "execution_count": 7,
   "metadata": {
    "collapsed": true
   },
   "outputs": [],
   "source": [
    "#Function to draw the SVM boundary\n",
    "def plotBoundary(my_svm, xmin, xmax, ymin, ymax):\n",
    "    \"\"\"\n",
    "    Function to plot the decision boundary for a trained SVM\n",
    "    It works by making a grid of x1 (\"xvals\") and x2 (\"yvals\") points,\n",
    "    And for each, computing whether the SVM classifies that point as\n",
    "    True or False. Then, a contour is drawn with a built-in pyplot function.\n",
    "    \"\"\"\n",
    "    xvals = np.linspace(xmin,xmax,100)\n",
    "    yvals = np.linspace(ymin,ymax,100)\n",
    "    zvals = np.zeros((len(xvals),len(yvals)))\n",
    "    for i in range(len(xvals)):\n",
    "        for j in range(len(yvals)):\n",
    "            zvals[i][j] = float(my_svm.predict(np.c_[xvals[i],yvals[j]]))\n",
    "    zvals = zvals.transpose()\n",
    "\n",
    "    u, v = np.meshgrid( xvals, yvals )\n",
    "    mycontour = plt.contour( u, v, zvals )\n",
    "    plt.title(\"Decision Boundary\")    "
   ]
  },
  {
   "cell_type": "code",
   "execution_count": 23,
   "metadata": {
    "collapsed": false
   },
   "outputs": [
    {
     "name": "stdout",
     "output_type": "stream",
     "text": [
      "[(0.3, 0.1), 0.96499999999999997]\n"
     ]
    },
    {
     "data": {
      "text/plain": [
       "SVC(C=0.3, cache_size=200, class_weight=None, coef0=0.0,\n",
       "  decision_function_shape=None, degree=3, gamma=99.999999999999986,\n",
       "  kernel='rbf', max_iter=-1, probability=False, random_state=None,\n",
       "  shrinking=True, tol=0.001, verbose=False)"
      ]
     },
     "execution_count": 23,
     "metadata": {},
     "output_type": "execute_result"
    }
   ],
   "source": [
    "# train the svm\n",
    "Cvalues=[0.01,0.03,0.1,0.3,1,3,10,30]\n",
    "SigmaValues=[0.01,0.03,0.1,0.3,1,3,10,30]\n",
    "bestParameter=[(0,0),0]\n",
    "#SVM initializing\n",
    "for C in Cvalues:\n",
    "    for sigma in SigmaValues:\n",
    "        gamma=np.power(sigma,-2.0)\n",
    "        my_svm = svm.SVC(C=C, kernel='rbf',gamma=gamma)\n",
    "        #SVM training\n",
    "        my_svm.fit(X, y.ravel())\n",
    "        #SVM predicting\n",
    "        error = my_svm.score(Xval,yval)\n",
    "        if error > bestParameter[1]:\n",
    "            bestParameter[1]=error\n",
    "            bestParameter[0]=(C,sigma)\n",
    "print(bestParameter)\n",
    "my_svm = svm.SVC(C=bestParameter[0][0], kernel='rbf',gamma=np.power(bestParameter[0][1],-2.0))\n",
    "my_svm.fit(X, y.ravel())"
   ]
  },
  {
   "cell_type": "code",
   "execution_count": 20,
   "metadata": {
    "collapsed": false
   },
   "outputs": [
    {
     "data": {
      "image/png": "[encoded data removed]",
      "text/plain": [
       "<matplotlib.figure.Figure at 0x5bab128>"
      ]
     },
     "metadata": {},
     "output_type": "display_data"
    }
   ],
   "source": [
    "# plot the results\n",
    "plotData(X,y)\n",
    "plotBoundary(my_svm, -0.5, 0.3, -0.6, 0.5)"
   ]
  },
  {
   "cell_type": "code",
   "execution_count": null,
   "metadata": {
    "collapsed": true
   },
   "outputs": [],
   "source": []
  }
 ],
 "metadata": {
  "anaconda-cloud": {},
  "kernelspec": {
   "display_name": "Python [Root]",
   "language": "python",
   "name": "Python [Root]"
  },
  "language_info": {
   "codemirror_mode": {
    "name": "ipython",
    "version": 3
   },
   "file_extension": ".py",
   "mimetype": "text/x-python",
   "name": "python",
   "nbconvert_exporter": "python",
   "pygments_lexer": "ipython3",
   "version": "3.5.2"
  }
 },
 "nbformat": 4,
 "nbformat_minor": 0
}
