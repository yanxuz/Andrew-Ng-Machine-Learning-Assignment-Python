{
 "cells": [
  {
   "cell_type": "code",
   "execution_count": null,
   "metadata": {
    "collapsed": true
   },
   "outputs": [],
   "source": [
    "# movie recommend system"
   ]
  },
  {
   "cell_type": "code",
   "execution_count": 17,
   "metadata": {
    "collapsed": true
   },
   "outputs": [],
   "source": [
    "# import libraries\n",
    "import pandas as pd\n",
    "import numpy as np\n",
    "import matplotlib as mpl\n",
    "import matplotlib.pyplot as plt\n",
    "from scipy.io import loadmat\n",
    "import scipy.optimize\n",
    "\n",
    "pd.set_option('display.notebook_repr_html', False)\n",
    "pd.set_option('display.max_columns', None)\n",
    "pd.set_option('display.max_rows', 150)\n",
    "pd.set_option('display.max_seq_items', None)\n",
    " \n",
    "#%config InlineBackend.figure_formats = {'pdf',}\n",
    "%matplotlib inline\n",
    "\n",
    "import seaborn as sns\n",
    "sns.set_context('notebook')\n",
    "sns.set_style('white')"
   ]
  },
  {
   "cell_type": "code",
   "execution_count": 2,
   "metadata": {
    "collapsed": false
   },
   "outputs": [
    {
     "name": "stdout",
     "output_type": "stream",
     "text": [
      "dict_keys(['R', 'Y', '__version__', '__header__', '__globals__'])\n",
      "1682\n",
      "943\n"
     ]
    }
   ],
   "source": [
    "# load data\n",
    "data=loadmat('data/ex8_movies.mat')\n",
    "print(data.keys())\n",
    "Y,R=data['Y'],data['R']\n",
    "num_movies,num_users=np.shape(Y)\n",
    "print(num_movies)\n",
    "print(num_users)"
   ]
  },
  {
   "cell_type": "code",
   "execution_count": 3,
   "metadata": {
    "collapsed": true
   },
   "outputs": [],
   "source": [
    "# number of features\n",
    "num_features=10"
   ]
  },
  {
   "cell_type": "code",
   "execution_count": 11,
   "metadata": {
    "collapsed": true
   },
   "outputs": [],
   "source": [
    "# unpack X and Theta into vectors\n",
    "def unpack(X,Theta):\n",
    "    params=np.r_[X.flatten(),Theta.flatten()]\n",
    "    return(params)\n",
    "# pack vectors into two arrays\n",
    "def pack(params,num_movies,num_users,num_features):\n",
    "    X=np.reshape(params[0:num_movies*num_features],(num_movies,num_features))\n",
    "    Theta=np.reshape(params[num_movies*num_features:],(num_users,num_features))\n",
    "    return((X,Theta))"
   ]
  },
  {
   "cell_type": "code",
   "execution_count": 12,
   "metadata": {
    "collapsed": true
   },
   "outputs": [],
   "source": [
    "# cost function\n",
    "def costFunction(params,reg,Y,R,num_movies,num_users,num_features):\n",
    "    X,Theta=pack(params,num_movies,num_users,num_features)\n",
    "    J=0.5*np.sum(R*np.square(X.dot(Theta.T)-Y))\n",
    "    J+=reg/2.0*np.sum(np.square(Theta))\n",
    "    J+=reg/2.0*np.sum(np.square(X))\n",
    "    return(J)"
   ]
  },
  {
   "cell_type": "code",
   "execution_count": 13,
   "metadata": {
    "collapsed": false
   },
   "outputs": [
    {
     "name": "stdout",
     "output_type": "stream",
     "text": [
      "dict_keys(['X', '__header__', 'Theta', 'num_movies', 'num_features', '__globals__', '__version__', 'num_users'])\n"
     ]
    },
    {
     "data": {
      "text/plain": [
       "32520.682450229557"
      ]
     },
     "execution_count": 13,
     "metadata": {},
     "output_type": "execute_result"
    }
   ],
   "source": [
    "#X=np.zeros((num_movies,num_features))\n",
    "#Theta=np.zeros((num_users,num_features))\n",
    "data=loadmat('data/ex8_movieParams.mat')\n",
    "print(data.keys())\n",
    "X,Theta=data['X'],data['Theta']\n",
    "params=unpack(X,Theta)\n",
    "reg=1\n",
    "costFunction(params,reg,Y,R,num_movies,num_users,num_features)"
   ]
  },
  {
   "cell_type": "code",
   "execution_count": 14,
   "metadata": {
    "collapsed": false
   },
   "outputs": [
    {
     "data": {
      "text/plain": [
       "array([-5.21315594,  2.0591285 , -5.68148384, ..., -5.27650042,\n",
       "        4.22109195,  2.11819114])"
      ]
     },
     "execution_count": 14,
     "metadata": {},
     "output_type": "execute_result"
    }
   ],
   "source": [
    "# gradient function\n",
    "def gradFunction(params,reg,Y,R,num_movies,num_users,num_features):\n",
    "    X,Theta=pack(params,num_movies,num_users,num_features)\n",
    "    Ypre=X.dot(Theta.T)\n",
    "    diff=R*(Ypre-Y)\n",
    "    gradX=diff.dot(Theta)+reg*X\n",
    "    gradTheta=diff.T.dot(X)+reg*Theta\n",
    "    gradParams=np.r_[gradX.flatten(),gradTheta.flatten()]\n",
    "    return(gradParams)\n",
    "gradFunction(params,reg,Y,R,num_movies,num_users,num_features)"
   ]
  },
  {
   "cell_type": "code",
   "execution_count": 69,
   "metadata": {
    "collapsed": false
   },
   "outputs": [
    {
     "name": "stdout",
     "output_type": "stream",
     "text": [
      "1682\n",
      "944\n"
     ]
    }
   ],
   "source": [
    "# add myself\n",
    "my_ratings = np.zeros((1682,1))\n",
    "my_ratings[0]   = 4\n",
    "my_ratings[97]  = 2\n",
    "my_ratings[6]   = 3\n",
    "my_ratings[11]  = 5\n",
    "my_ratings[53]  = 4\n",
    "my_ratings[63]  = 5\n",
    "my_ratings[65]  = 3\n",
    "my_ratings[68]  = 5\n",
    "my_ratings[182] = 4\n",
    "my_ratings[225] = 5\n",
    "my_ratings[354] = 5\n",
    "\n",
    "Yext=np.c_[Y,my_ratings]\n",
    "Rext=np.c_[R,my_ratings>0]\n",
    "\n",
    "num_movies,num_users=np.shape(Yext)\n",
    "print(num_movies)\n",
    "print(num_users)"
   ]
  },
  {
   "cell_type": "code",
   "execution_count": 96,
   "metadata": {
    "collapsed": false
   },
   "outputs": [],
   "source": [
    "# normalize the ratings\n",
    "meanY=np.sum(Yext,1)/np.sum(Rext,1)\n",
    "Ynorm=Yext-meanY.reshape(-1,1)"
   ]
  },
  {
   "cell_type": "code",
   "execution_count": 125,
   "metadata": {
    "collapsed": false
   },
   "outputs": [
    {
     "name": "stdout",
     "output_type": "stream",
     "text": [
      "Warning: Maximum number of iterations has been exceeded.\n",
      "         Current function value: 38977.803915\n",
      "         Iterations: 50\n",
      "         Function evaluations: 82\n",
      "         Gradient evaluations: 82\n"
     ]
    }
   ],
   "source": [
    "# now training the system\n",
    "# random intial\n",
    "X = np.random.rand(num_movies,num_features)\n",
    "Theta = np.random.rand(num_users,num_features)\n",
    "params=unpack(X,Theta)\n",
    "reg=10.0\n",
    "\n",
    "result = scipy.optimize.fmin_cg(costFunction, x0=params, fprime=gradFunction, \\\n",
    "                               args=(reg,Ynorm,Rext,num_movies,num_users,num_features), \\\n",
    "                                maxiter=50,disp=True,full_output=True)\n"
   ]
  },
  {
   "cell_type": "code",
   "execution_count": 126,
   "metadata": {
    "collapsed": true
   },
   "outputs": [],
   "source": [
    "# reshpae result\n",
    "trainedX,trainedTheta=pack(result[0],num_movies,num_users,num_features)"
   ]
  },
  {
   "cell_type": "code",
   "execution_count": 132,
   "metadata": {
    "collapsed": false
   },
   "outputs": [],
   "source": [
    "# make predictions\n",
    "my_ratings_pre=trainedX.dot(trainedTheta.T)[:,-1]+meanY"
   ]
  },
  {
   "cell_type": "code",
   "execution_count": 133,
   "metadata": {
    "collapsed": false
   },
   "outputs": [
    {
     "name": "stdout",
     "output_type": "stream",
     "text": [
      "[1598 1121 1188 1292  813 1535 1466 1652 1499 1200]\n"
     ]
    }
   ],
   "source": [
    "# make recommendations\n",
    "pred_idxs_sorted = np.argsort(my_ratings_pre)[::-1]\n",
    "print(pred_idxs_sorted[:10])"
   ]
  },
  {
   "cell_type": "code",
   "execution_count": 129,
   "metadata": {
    "collapsed": true
   },
   "outputs": [],
   "source": [
    "# Let's make a list of strings to reference later\n",
    "movies = []\n",
    "with open('data/movie_ids.txt') as f:\n",
    "    for line in f:\n",
    "        movies.append(' '.join(line.strip('\\n').split(' ')[1:]))"
   ]
  },
  {
   "cell_type": "code",
   "execution_count": 134,
   "metadata": {
    "collapsed": false
   },
   "outputs": [
    {
     "name": "stdout",
     "output_type": "stream",
     "text": [
      "Top recommendations for you:\n",
      "Predicting rating 5.0 for movie Someone Else's America (1995).\n",
      "Predicting rating 5.0 for movie They Made Me a Criminal (1939).\n",
      "Predicting rating 5.0 for movie Prefontaine (1997).\n",
      "Predicting rating 5.0 for movie Star Kid (1997).\n",
      "Predicting rating 5.0 for movie Great Day in Harlem, A (1994).\n",
      "Predicting rating 5.0 for movie Aiqing wansui (1994).\n",
      "Predicting rating 5.0 for movie Saint of Fort Washington, The (1993).\n",
      "Predicting rating 5.0 for movie Entertaining Angels: The Dorothy Day Story (1996).\n",
      "Predicting rating 5.0 for movie Santa with Muscles (1996).\n",
      "Predicting rating 5.0 for movie Marlene Dietrich: Shadow and Light (1996) .\n",
      "\n",
      "Original ratings provided:\n",
      "Rated 4 for movie Toy Story (1995).\n",
      "Rated 3 for movie Twelve Monkeys (1995).\n",
      "Rated 5 for movie Usual Suspects, The (1995).\n",
      "Rated 4 for movie Outbreak (1995).\n",
      "Rated 5 for movie Shawshank Redemption, The (1994).\n",
      "Rated 3 for movie While You Were Sleeping (1995).\n",
      "Rated 5 for movie Forrest Gump (1994).\n",
      "Rated 2 for movie Silence of the Lambs, The (1991).\n",
      "Rated 4 for movie Alien (1979).\n",
      "Rated 5 for movie Die Hard 2 (1990).\n",
      "Rated 5 for movie Sphere (1998).\n"
     ]
    }
   ],
   "source": [
    "# make predictions\n",
    "print(\"Top recommendations for you:\")\n",
    "for i in range(10):\n",
    "    print('Predicting rating %0.1f for movie %s.' % \\\n",
    "    (my_ratings_pre[pred_idxs_sorted[i]],movies[pred_idxs_sorted[i]]))\n",
    "    \n",
    "print(\"\\nOriginal ratings provided:\")\n",
    "for i in range(len(my_ratings)):\n",
    "    if my_ratings[i] > 0:\n",
    "        print('Rated %d for movie %s.' % (my_ratings[i],movies[i]))"
   ]
  },
  {
   "cell_type": "code",
   "execution_count": null,
   "metadata": {
    "collapsed": true
   },
   "outputs": [],
   "source": []
  }
 ],
 "metadata": {
  "anaconda-cloud": {},
  "kernelspec": {
   "display_name": "Python [Root]",
   "language": "python",
   "name": "Python [Root]"
  },
  "language_info": {
   "codemirror_mode": {
    "name": "ipython",
    "version": 3
   },
   "file_extension": ".py",
   "mimetype": "text/x-python",
   "name": "python",
   "nbconvert_exporter": "python",
   "pygments_lexer": "ipython3",
   "version": "3.5.2"
  }
 },
 "nbformat": 4,
 "nbformat_minor": 0
}
