{
 "cells": [
  {
   "cell_type": "code",
   "execution_count": 12,
   "metadata": {
    "collapsed": false
   },
   "outputs": [],
   "source": [
    "# load libraries\n",
    "import scipy as sp\n",
    "import pandas as pd\n",
    "import numpy as np\n",
    "import matplotlib.pyplot as plt\n",
    "from scipy.io import loadmat\n",
    "\n",
    "%matplotlib inline  \n",
    "import seaborn as sns\n",
    "sns.set_context('notebook')\n",
    "sns.set_style('white')"
   ]
  },
  {
   "cell_type": "code",
   "execution_count": 19,
   "metadata": {
    "collapsed": false
   },
   "outputs": [
    {
     "name": "stdout",
     "output_type": "stream",
     "text": [
      "X  (5000, 400)\n",
      "y  (5000, 1)\n",
      "theta1  (25, 401)\n",
      "theta2  (10, 26)\n"
     ]
    }
   ],
   "source": [
    "#load data\n",
    "data = loadmat('./data/ex3data1.mat')\n",
    "X,y=data['X'],data['y']\n",
    "weights = loadmat('data/ex3weights.mat')\n",
    "theta1, theta2 = weights['Theta1'], weights['Theta2']\n",
    "# seperate them into X and y\n",
    "X = np.c_[X]\n",
    "y = np.c_[y]\n",
    "print('X ',np.shape(X))\n",
    "print('y ',np.shape(y))\n",
    "\n",
    "# weights data\n",
    "weights = loadmat('data/ex3weights.mat')\n",
    "theta1, theta2 = weights['Theta1'], weights['Theta2']\n",
    "theta1 = np.c_[theta1]\n",
    "theta2 = np.c_[theta2]\n",
    "print('theta1 ',np.shape(theta1))\n",
    "print('theta2 ',np.shape(theta2))"
   ]
  },
  {
   "cell_type": "code",
   "execution_count": 70,
   "metadata": {
    "collapsed": false
   },
   "outputs": [],
   "source": [
    "# forward propogation\n",
    "def predict(theta1,theta2,X):\n",
    "    # first layer\n",
    "    X_ext=np.c_[np.ones(X.shape[0]),X]\n",
    "    y1=sp.special.expit(X_ext.dot(theta1.T))\n",
    "    # second layer\n",
    "    y1_ext=np.c_[np.ones(y1.shape[0]),y1]\n",
    "    y2=sp.special.expit(y1_ext.dot(theta2.T))\n",
    "    # summarize result\n",
    "    y3=np.argmax(y2,axis=1)+1\n",
    "    return(y3)"
   ]
  },
  {
   "cell_type": "code",
   "execution_count": 71,
   "metadata": {
    "collapsed": false
   },
   "outputs": [
    {
     "name": "stdout",
     "output_type": "stream",
     "text": [
      "97.52\n"
     ]
    }
   ],
   "source": [
    "y_pre=predict(theta1,theta2,X)\n",
    "print(np.sum((y_pre==y.T).astype(int))/np.size(y)*100)"
   ]
  },
  {
   "cell_type": "code",
   "execution_count": 74,
   "metadata": {
    "collapsed": false
   },
   "outputs": [
    {
     "name": "stdout",
     "output_type": "stream",
     "text": [
      "[10  5  2  4  9 10  9  6  1  8]\n",
      "[[10  5  2  4  9 10  9  6  1  8]]\n"
     ]
    },
    {
     "data": {
      "image/png": "[encoded data removed]",
      "text/plain": [
       "<matplotlib.figure.Figure at 0x121ba7b00>"
      ]
     },
     "metadata": {},
     "output_type": "display_data"
    }
   ],
   "source": [
    "# show random sample\n",
    "sample=np.random.choice(X.shape[0],10)\n",
    "plt.imshow(X[sample].reshape(-1,20).T)\n",
    "plt.axis('off');\n",
    "print(y_pre[sample].T)\n",
    "print(y[sample].T)"
   ]
  },
  {
   "cell_type": "code",
   "execution_count": null,
   "metadata": {
    "collapsed": true
   },
   "outputs": [],
   "source": []
  }
 ],
 "metadata": {
  "anaconda-cloud": {},
  "kernelspec": {
   "display_name": "Python [Root]",
   "language": "python",
   "name": "Python [Root]"
  },
  "language_info": {
   "codemirror_mode": {
    "name": "ipython",
    "version": 3
   },
   "file_extension": ".py",
   "mimetype": "text/x-python",
   "name": "python",
   "nbconvert_exporter": "python",
   "pygments_lexer": "ipython3",
   "version": "3.5.2"
  }
 },
 "nbformat": 4,
 "nbformat_minor": 0
}
